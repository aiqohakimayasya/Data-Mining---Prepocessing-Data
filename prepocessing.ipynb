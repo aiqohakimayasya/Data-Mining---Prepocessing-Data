{
  "nbformat": 4,
  "nbformat_minor": 0,
  "metadata": {
    "colab": {
      "name": "prepocessing.ipynb",
      "provenance": [],
      "collapsed_sections": []
    },
    "kernelspec": {
      "name": "python3",
      "display_name": "Python 3"
    },
    "language_info": {
      "name": "python"
    }
  },
  "cells": [
    {
      "cell_type": "code",
      "metadata": {
        "id": "DYjU1lK83XEY"
      },
      "source": [
        "import numpy as np\n",
        "import matplotlib.pyplot as plt\n",
        "import pandas as pd"
      ],
      "execution_count": 3,
      "outputs": []
    },
    {
      "cell_type": "code",
      "metadata": {
        "id": "-9lfRi7q6zSe"
      },
      "source": [
        "dataset = pd.read_csv('Dataset.csv')\n",
        "x = dataset.iloc[:, :-1].values\n",
        "y = dataset.iloc[:, -1].values"
      ],
      "execution_count": 4,
      "outputs": []
    },
    {
      "cell_type": "code",
      "metadata": {
        "colab": {
          "base_uri": "https://localhost:8080/"
        },
        "id": "Krcr7PuX64JN",
        "outputId": "100078f6-d7c0-4e4d-ef89-f7db2a2bd378"
      },
      "source": [
        "print(x)"
      ],
      "execution_count": 5,
      "outputs": [
        {
          "output_type": "stream",
          "text": [
            "[['Banten' 24.0 5000000.0]\n",
            " ['DKI Jakarta' nan 3400000.0]\n",
            " ['Jawa Barat' 60.0 7350000.0]\n",
            " ['Banten' 34.0 3500000.0]\n",
            " ['Jawa Barat' 58.0 nan]\n",
            " ['DKI Jakarta' nan 8000000.0]\n",
            " ['Banten' 21.0 5500000.0]\n",
            " ['Banten' 44.0 10000000.0]\n",
            " ['Jawa Barat' 40.0 9000000.0]\n",
            " ['DKI Jakarta' 51.0 10500000.0]\n",
            " ['Banten' 32.0 nan]\n",
            " ['Banten' 30.0 6400000.0]\n",
            " ['Jawa Barat' 30.0 nan]\n",
            " ['DKI Jakarta' 19.0 2200000.0]\n",
            " ['DKI Jakarta' 25.0 4500000.0]]\n"
          ],
          "name": "stdout"
        }
      ]
    },
    {
      "cell_type": "code",
      "metadata": {
        "colab": {
          "base_uri": "https://localhost:8080/"
        },
        "id": "zXX9m8ad67z8",
        "outputId": "c8042146-f81c-4822-8258-2a790af9143e"
      },
      "source": [
        "print(y)"
      ],
      "execution_count": 6,
      "outputs": [
        {
          "output_type": "stream",
          "text": [
            "['Yes' 'No' 'No' 'No' 'Yes' 'No' 'No' 'Yes' 'Yes' 'Yes' 'No' 'No' 'No'\n",
            " 'Yes' 'Yes']\n"
          ],
          "name": "stdout"
        }
      ]
    },
    {
      "cell_type": "code",
      "metadata": {
        "id": "r-RQGJjV7AMm"
      },
      "source": [
        "from sklearn.impute import SimpleImputer\n",
        "imputer = SimpleImputer(missing_values=np.nan, strategy='mean')\n",
        "imputer.fit(x[:, 1:3])\n",
        "x[:, 1:3] = imputer.transform(x[:, 1:3])"
      ],
      "execution_count": 8,
      "outputs": []
    },
    {
      "cell_type": "code",
      "metadata": {
        "colab": {
          "base_uri": "https://localhost:8080/"
        },
        "id": "pXUfYYBb7Idj",
        "outputId": "37d4fb39-86c8-43e5-f523-c8a7ad0803d5"
      },
      "source": [
        "print(x)"
      ],
      "execution_count": 9,
      "outputs": [
        {
          "output_type": "stream",
          "text": [
            "[['Banten' 24.0 5000000.0]\n",
            " ['DKI Jakarta' 36.0 3400000.0]\n",
            " ['Jawa Barat' 60.0 7350000.0]\n",
            " ['Banten' 34.0 3500000.0]\n",
            " ['Jawa Barat' 58.0 6279166.666666667]\n",
            " ['DKI Jakarta' 36.0 8000000.0]\n",
            " ['Banten' 21.0 5500000.0]\n",
            " ['Banten' 44.0 10000000.0]\n",
            " ['Jawa Barat' 40.0 9000000.0]\n",
            " ['DKI Jakarta' 51.0 10500000.0]\n",
            " ['Banten' 32.0 6279166.666666667]\n",
            " ['Banten' 30.0 6400000.0]\n",
            " ['Jawa Barat' 30.0 6279166.666666667]\n",
            " ['DKI Jakarta' 19.0 2200000.0]\n",
            " ['DKI Jakarta' 25.0 4500000.0]]\n"
          ],
          "name": "stdout"
        }
      ]
    },
    {
      "cell_type": "code",
      "metadata": {
        "id": "_gJkiKCN7MDZ"
      },
      "source": [
        "from sklearn.compose import ColumnTransformer\n",
        "from sklearn.preprocessing import OneHotEncoder\n",
        "ct = ColumnTransformer(transformers=[('encoder', OneHotEncoder(), [0])], remainder = 'passthrough')\n",
        "x = np.array(ct.fit_transform(x))"
      ],
      "execution_count": 10,
      "outputs": []
    },
    {
      "cell_type": "code",
      "metadata": {
        "colab": {
          "base_uri": "https://localhost:8080/"
        },
        "id": "W8u8Ox3o7Nrc",
        "outputId": "a356a0e3-d39d-4465-c59d-4d42c6b3e553"
      },
      "source": [
        "print(x)"
      ],
      "execution_count": 11,
      "outputs": [
        {
          "output_type": "stream",
          "text": [
            "[[1.0 0.0 0.0 24.0 5000000.0]\n",
            " [0.0 1.0 0.0 36.0 3400000.0]\n",
            " [0.0 0.0 1.0 60.0 7350000.0]\n",
            " [1.0 0.0 0.0 34.0 3500000.0]\n",
            " [0.0 0.0 1.0 58.0 6279166.666666667]\n",
            " [0.0 1.0 0.0 36.0 8000000.0]\n",
            " [1.0 0.0 0.0 21.0 5500000.0]\n",
            " [1.0 0.0 0.0 44.0 10000000.0]\n",
            " [0.0 0.0 1.0 40.0 9000000.0]\n",
            " [0.0 1.0 0.0 51.0 10500000.0]\n",
            " [1.0 0.0 0.0 32.0 6279166.666666667]\n",
            " [1.0 0.0 0.0 30.0 6400000.0]\n",
            " [0.0 0.0 1.0 30.0 6279166.666666667]\n",
            " [0.0 1.0 0.0 19.0 2200000.0]\n",
            " [0.0 1.0 0.0 25.0 4500000.0]]\n"
          ],
          "name": "stdout"
        }
      ]
    },
    {
      "cell_type": "code",
      "metadata": {
        "id": "nQwOjWMF7Qo6"
      },
      "source": [
        "from sklearn.preprocessing import LabelEncoder\n",
        "le = LabelEncoder()\n",
        "y = le.fit_transform(y)"
      ],
      "execution_count": 12,
      "outputs": []
    },
    {
      "cell_type": "code",
      "metadata": {
        "colab": {
          "base_uri": "https://localhost:8080/"
        },
        "id": "xyP6rhfy7SDN",
        "outputId": "b98d77e9-8331-4380-b7c6-3e0307fe28c8"
      },
      "source": [
        "print(y)"
      ],
      "execution_count": 13,
      "outputs": [
        {
          "output_type": "stream",
          "text": [
            "[1 0 0 0 1 0 0 1 1 1 0 0 0 1 1]\n"
          ],
          "name": "stdout"
        }
      ]
    },
    {
      "cell_type": "code",
      "metadata": {
        "id": "pC6az9wZ7VN6"
      },
      "source": [
        "from sklearn.model_selection import train_test_split\n",
        "x_train, x_test, y_train, y_test = train_test_split(x, y, test_size=0.2, random_state=1)"
      ],
      "execution_count": 15,
      "outputs": []
    },
    {
      "cell_type": "code",
      "metadata": {
        "colab": {
          "base_uri": "https://localhost:8080/"
        },
        "id": "GRAxREBi7d5p",
        "outputId": "98438268-5703-43b2-a9a3-ba927d027c3c"
      },
      "source": [
        "print(x_train)"
      ],
      "execution_count": 16,
      "outputs": [
        {
          "output_type": "stream",
          "text": [
            "[[0.0 0.0 1.0 60.0 7350000.0]\n",
            " [1.0 0.0 0.0 32.0 6279166.666666667]\n",
            " [0.0 0.0 1.0 58.0 6279166.666666667]\n",
            " [0.0 1.0 0.0 36.0 3400000.0]\n",
            " [0.0 1.0 0.0 19.0 2200000.0]\n",
            " [1.0 0.0 0.0 24.0 5000000.0]\n",
            " [0.0 1.0 0.0 25.0 4500000.0]\n",
            " [0.0 1.0 0.0 51.0 10500000.0]\n",
            " [0.0 0.0 1.0 40.0 9000000.0]\n",
            " [0.0 0.0 1.0 30.0 6279166.666666667]\n",
            " [1.0 0.0 0.0 30.0 6400000.0]\n",
            " [0.0 1.0 0.0 36.0 8000000.0]]\n"
          ],
          "name": "stdout"
        }
      ]
    },
    {
      "cell_type": "code",
      "metadata": {
        "colab": {
          "base_uri": "https://localhost:8080/"
        },
        "id": "GmJGHNLy75xV",
        "outputId": "d0e1b6cb-2d48-419b-93c7-0b8ac35d584d"
      },
      "source": [
        "print(x_test)"
      ],
      "execution_count": 17,
      "outputs": [
        {
          "output_type": "stream",
          "text": [
            "[[1.0 0.0 0.0 34.0 3500000.0]\n",
            " [1.0 0.0 0.0 44.0 10000000.0]\n",
            " [1.0 0.0 0.0 21.0 5500000.0]]\n"
          ],
          "name": "stdout"
        }
      ]
    },
    {
      "cell_type": "code",
      "metadata": {
        "colab": {
          "base_uri": "https://localhost:8080/"
        },
        "id": "a-zdwyOz7_Xo",
        "outputId": "340fc886-73ac-460b-80b7-763c64bf3b65"
      },
      "source": [
        "print(y_train)"
      ],
      "execution_count": 18,
      "outputs": [
        {
          "output_type": "stream",
          "text": [
            "[0 0 1 0 1 1 1 1 1 0 0 0]\n"
          ],
          "name": "stdout"
        }
      ]
    },
    {
      "cell_type": "code",
      "metadata": {
        "colab": {
          "base_uri": "https://localhost:8080/"
        },
        "id": "inU2Yq2D8B9e",
        "outputId": "461f19d8-d5fa-4aa7-b27c-4949989e8994"
      },
      "source": [
        "print(y_test)"
      ],
      "execution_count": 19,
      "outputs": [
        {
          "output_type": "stream",
          "text": [
            "[0 1 0]\n"
          ],
          "name": "stdout"
        }
      ]
    },
    {
      "cell_type": "code",
      "metadata": {
        "id": "sAKreBvn8F7g"
      },
      "source": [
        "from sklearn.preprocessing import StandardScaler\n",
        "sc = StandardScaler()\n",
        "x_train[:, 3:] = sc.fit_transform(x_train[:, 3:])\n",
        "x_test[:, 3:] = sc.transform(x_test[:, 3:])"
      ],
      "execution_count": 20,
      "outputs": []
    },
    {
      "cell_type": "code",
      "metadata": {
        "colab": {
          "base_uri": "https://localhost:8080/"
        },
        "id": "ECwy0Kvc8IA_",
        "outputId": "4fa3ac79-695f-438d-c11d-ec3b958bcd2d"
      },
      "source": [
        "print(x_train)"
      ],
      "execution_count": 21,
      "outputs": [
        {
          "output_type": "stream",
          "text": [
            "[[0.0 0.0 1.0 1.830344610844644 0.48875140873761674]\n",
            " [1.0 0.0 0.0 -0.37394137210804557 0.006103523836300829]\n",
            " [0.0 0.0 1.0 1.672895612062309 0.006103523836300829]\n",
            " [0.0 1.0 0.0 -0.05904337454337561 -1.2915995441279382]\n",
            " [0.0 1.0 0.0 -1.3973598641932228 -1.8324656563908917]\n",
            " [1.0 0.0 0.0 -1.0037373672373855 -0.5704447277773337]\n",
            " [0.0 1.0 0.0 -0.925012867846218 -0.7958056078868976]\n",
            " [0.0 1.0 0.0 1.1218241163241367 1.9085249534278694]\n",
            " [0.0 0.0 1.0 0.2558546230212943 1.2324423130991777]\n",
            " [0.0 0.0 1.0 -0.5313903708903805 0.006103523836300829]\n",
            " [1.0 0.0 0.0 -0.5313903708903805 0.0605657365294453]\n",
            " [0.0 1.0 0.0 -0.05904337454337561 0.7817205528800498]]\n"
          ],
          "name": "stdout"
        }
      ]
    },
    {
      "cell_type": "code",
      "metadata": {
        "colab": {
          "base_uri": "https://localhost:8080/"
        },
        "id": "RyIJmvn98KTM",
        "outputId": "c27cdab5-2d97-4fdb-fa24-bb7cf6c408d8"
      },
      "source": [
        "print(x_test)"
      ],
      "execution_count": 22,
      "outputs": [
        {
          "output_type": "stream",
          "text": [
            "[[1.0 0.0 0.0 -0.21649237332571059 -1.2465273681060254]\n",
            " [1.0 0.0 0.0 0.5707526205859643 1.6831640733183055]\n",
            " [1.0 0.0 0.0 -1.239910865410888 -0.3450838476677697]]\n"
          ],
          "name": "stdout"
        }
      ]
    }
  ]
}